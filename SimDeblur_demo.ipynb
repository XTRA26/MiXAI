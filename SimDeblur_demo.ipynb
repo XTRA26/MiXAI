{
  "nbformat": 4,
  "nbformat_minor": 0,
  "metadata": {
    "colab": {
      "name": "SimDeblur_demo.ipynb",
      "provenance": [],
      "collapsed_sections": [],
      "include_colab_link": true
    },
    "kernelspec": {
      "name": "python3",
      "display_name": "Python 3"
    },
    "language_info": {
      "name": "python"
    },
    "accelerator": "GPU"
  },
  "cells": [
    {
      "cell_type": "markdown",
      "metadata": {
        "id": "view-in-github",
        "colab_type": "text"
      },
      "source": [
        "<a href=\"https://colab.research.google.com/github/XTRA26/MiXLab/blob/master/SimDeblur_demo.ipynb\" target=\"_parent\"><img src=\"https://colab.research.google.com/assets/colab-badge.svg\" alt=\"Open In Colab\"/></a>"
      ]
    },
    {
      "cell_type": "markdown",
      "metadata": {
        "id": "DA0ATqr9k9io"
      },
      "source": [
        "# <p align=center>`SimDeblur`</p>\n",
        "A video deblurring demo with SimDeblur."
      ]
    },
    {
      "cell_type": "code",
      "metadata": {
        "id": "BPFdu5sQk6cM"
      },
      "source": [
        "!pwd"
      ],
      "execution_count": null,
      "outputs": []
    },
    {
      "cell_type": "code",
      "metadata": {
        "id": "z9lBx1RQlg2h"
      },
      "source": [
        "!git clone https://github.com/ljzycmd/SimDeblur.git"
      ],
      "execution_count": null,
      "outputs": []
    },
    {
      "cell_type": "code",
      "metadata": {
        "id": "3dKE4jcdluJA"
      },
      "source": [
        "%cd SimDeblur\n",
        "!bash Install.sh"
      ],
      "execution_count": null,
      "outputs": []
    },
    {
      "cell_type": "markdown",
      "metadata": {
        "id": "EYSJWduEuvXU"
      },
      "source": [
        "Download the checkpoint and video demo"
      ]
    },
    {
      "cell_type": "code",
      "metadata": {
        "id": "7pw6oY-Aunjp"
      },
      "source": [
        "# download the checkpoint of DBN\n",
        "!wget --load-cookies /tmp/cookies.txt \"https://docs.google.com/uc?export=download&confirm=$(wget --quiet --save-cookies /tmp/cookies.txt --keep-session-cookies --no-check-certificate 'https://docs.google.com/uc?export=download&id=1r3c1moyJC88yoSnyWA5zirMB_yvTpMXi' -O- | sed -rn 's/.*confirm=([0-9A-Za-z_]+).*/\\1\\n/p')&id=1r3c1moyJC88yoSnyWA5zirMB_yvTpMXi\" -O ./demo/dbn_ckpt.pth && rm -rf /tmp/cookies.txt"
      ],
      "execution_count": null,
      "outputs": []
    },
    {
      "cell_type": "code",
      "metadata": {
        "id": "6LlY-hRCrSR0"
      },
      "source": [
        "# download the demo video for video deblurring\n",
        "!wget --load-cookies /tmp/cookies.txt \"https://docs.google.com/uc?export=download&confirm=$(wget --quiet --save-cookies /tmp/cookies.txt --keep-session-cookies --no-check-certificate 'https://docs.google.com/uc?export=download&id=1YJLeaQNQv8Xqw8isVArtxrwGjVzSp6gc' -O- | sed -rn 's/.*confirm=([0-9A-Za-z_]+).*/\\1\\n/p')&id=1YJLeaQNQv8Xqw8isVArtxrwGjVzSp6gc\" -O ./datasets/dvd_books.zip && rm -rf /tmp/cookies.txt"
      ],
      "execution_count": null,
      "outputs": []
    },
    {
      "cell_type": "code",
      "metadata": {
        "id": "59ivVI1dzf8y"
      },
      "source": [
        "# unzip the video frames\n",
        "%cd datasets\n",
        "#\n",
        "!unzip dvd_books.zip\n",
        "#\n",
        "%cd .."
      ],
      "execution_count": null,
      "outputs": []
    },
    {
      "cell_type": "markdown",
      "metadata": {
        "id": "WFBdvnKHqgp_"
      },
      "source": [
        "1. Import the packages"
      ]
    },
    {
      "cell_type": "code",
      "metadata": {
        "id": "ZlY4C72Bmf5z"
      },
      "source": [
        "import torch\n",
        "from easydict import EasyDict as edict"
      ],
      "execution_count": null,
      "outputs": []
    },
    {
      "cell_type": "markdown",
      "metadata": {
        "id": "IX5kwLp7qtQp"
      },
      "source": [
        "2. Build a DBN model"
      ]
    },
    {
      "cell_type": "code",
      "metadata": {
        "id": "PKrOgnUjqrJy"
      },
      "source": [
        "from simdeblur.model import build_backbone\n",
        "\n",
        "model_cfg = edict({\n",
        "    \"name\": \"DBN\",\n",
        "    \"num_frames\": 5,\n",
        "    \"in_channels\": 3,\n",
        "    \"inner_channels\": 64\n",
        "})\n",
        "\n",
        "device = torch.device(\"cuda\" if torch.cuda.is_available() else \"cpu\")\n",
        "\n",
        "model = build_backbone(model_cfg)\n",
        "ckpt = torch.load(\"./demo/dbn_ckpt.pth\")\n",
        "model_ckpt = ckpt[\"model\"]\n",
        "model_ckpt = {k[7:]: v for k, v in model_ckpt.items()}\n",
        "\n",
        "model.load_state_dict(model_ckpt)\n",
        "model = model.to(device)"
      ],
      "execution_count": null,
      "outputs": []
    },
    {
      "cell_type": "code",
      "metadata": {
        "id": "IOA-ygP974Is"
      },
      "source": [
        ""
      ],
      "execution_count": null,
      "outputs": []
    },
    {
      "cell_type": "markdown",
      "metadata": {
        "id": "qFd1W8Um44Rg"
      },
      "source": [
        "3. Construct the test video data"
      ]
    },
    {
      "cell_type": "code",
      "metadata": {
        "id": "kq6vSELx0RI1"
      },
      "source": [
        "from simdeblur.dataset.frames_folder import FramesFolder\n",
        "\n",
        "data_config = edict({\n",
        "    \"root_input\": \"./datasets/input\",\n",
        "    \"num_frames\": 5,\n",
        "    \"overlapping\": True,\n",
        "    \"sampling\": \"n_c\"\n",
        "})\n",
        "\n",
        "frames_data = FramesFolder(data_config)\n",
        "frames_dataloader = torch.utils.data.DataLoader(frames_data, 1)"
      ],
      "execution_count": null,
      "outputs": []
    },
    {
      "cell_type": "markdown",
      "metadata": {
        "id": "N02olskX5B-G"
      },
      "source": [
        "4. Run the inference"
      ]
    },
    {
      "cell_type": "code",
      "metadata": {
        "id": "wfwwxKAN1vc2"
      },
      "source": [
        "import matplotlib.pyplot as plt\n",
        "plt.figure(figsize=(18, 12))\n",
        "model.eval()\n",
        "with torch.no_grad():\n",
        "    # you can change the index to deblur different frames. \n",
        "    batch_data = frames_data[1]\n",
        "    out = model(batch_data[\"input_frames\"].unsqueeze(0).cuda())\n",
        "    out = out.clamp(0, 1)\n",
        "    plt.subplot(1, 2, 1)\n",
        "    plt.title(\"Center blurry frame\")\n",
        "    plt.imshow(batch_data[\"input_frames\"][2].permute(1, 2, 0).numpy())\n",
        "    plt.subplot(1, 2, 2)\n",
        "    plt.title(\"Latent frame\")\n",
        "    plt.imshow(out[0].cpu().permute(1, 2, 0).numpy())"
      ],
      "execution_count": null,
      "outputs": []
    }
  ]
}