{
  "nbformat": 4,
  "nbformat_minor": 0,
  "metadata": {
    "colab": {
      "name": "GoogleDrive Migration.ipynb",
      "provenance": [],
      "collapsed_sections": [
        "zBwf5A5Wftc8"
      ],
      "include_colab_link": true
    },
    "kernelspec": {
      "name": "python3",
      "display_name": "Python 3"
    }
  },
  "cells": [
    {
      "cell_type": "markdown",
      "metadata": {
        "id": "view-in-github",
        "colab_type": "text"
      },
      "source": [
        "<a href=\"https://colab.research.google.com/github/XTRA26/MiXAI/blob/master/GoogleDrive_Migration.ipynb\" target=\"_parent\"><img src=\"https://colab.research.google.com/assets/colab-badge.svg\" alt=\"Open In Colab\"/></a>"
      ]
    },
    {
      "cell_type": "markdown",
      "metadata": {
        "id": "lxTFXZi41jYa"
      },
      "source": [
        "# **`#0`** Mount your Google Drive (**Important**)"
      ]
    },
    {
      "cell_type": "markdown",
      "metadata": {
        "id": "QKDEo3O42X5S"
      },
      "source": [
        "**Mount**\n",
        "(Mandatory)"
      ]
    },
    {
      "cell_type": "code",
      "metadata": {
        "id": "KPDQawnG1Z0p",
        "colab": {
          "base_uri": "https://localhost:8080/"
        },
        "outputId": "61c734c6-ae50-4331-e082-dceb60a68808"
      },
      "source": [
        "from google.colab import drive\n",
        "drive.mount('/gdrive')"
      ],
      "execution_count": 1,
      "outputs": [
        {
          "output_type": "stream",
          "name": "stdout",
          "text": [
            "Mounted at /gdrive\n"
          ]
        }
      ]
    },
    {
      "cell_type": "markdown",
      "metadata": {
        "id": "CgDOIoVu199J"
      },
      "source": [
        "**Check Network Speed** (Optional)"
      ]
    },
    {
      "cell_type": "code",
      "metadata": {
        "id": "YSmUUwrp3b5D",
        "colab": {
          "base_uri": "https://localhost:8080/"
        },
        "outputId": "a837dae2-29d2-492f-bfed-614c6621c95b"
      },
      "source": [
        "!curl -s https://raw.githubusercontent.com/sivel/speedtest-cli/master/speedtest.py | python -"
      ],
      "execution_count": 2,
      "outputs": [
        {
          "output_type": "stream",
          "name": "stdout",
          "text": [
            "Retrieving speedtest.net configuration...\n",
            "Testing from Google Cloud (35.201.206.108)...\n",
            "Retrieving speedtest.net server list...\n",
            "Selecting best server based on ping...\n",
            "Hosted by Taiwan Mobile (Da'an District) [3.04 km]: 6.13 ms\n",
            "Testing download speed................................................................................\n",
            "Download: 1844.65 Mbit/s\n",
            "Testing upload speed......................................................................................................\n",
            "Upload: 735.26 Mbit/s\n"
          ]
        }
      ]
    },
    {
      "cell_type": "markdown",
      "metadata": {
        "id": "AM_HAOnOem0v"
      },
      "source": [
        "**Check IP** (Optional)"
      ]
    },
    {
      "cell_type": "code",
      "metadata": {
        "id": "zv47d4QTeluA",
        "colab": {
          "base_uri": "https://localhost:8080/"
        },
        "outputId": "a1c00313-8fdf-493f-a159-4f20fcc7a7d2"
      },
      "source": [
        "!curl -s http://checkip.amazonaws.com"
      ],
      "execution_count": 3,
      "outputs": [
        {
          "output_type": "stream",
          "name": "stdout",
          "text": [
            "35.201.206.108\n"
          ]
        }
      ]
    },
    {
      "cell_type": "markdown",
      "metadata": {
        "id": "3AXweA-auoDX"
      },
      "source": [
        "---\n",
        "---"
      ]
    },
    {
      "cell_type": "markdown",
      "metadata": {
        "id": "csh-zappftKC"
      },
      "source": [
        "# **`#1`** Make a copy of Folder within **My Drive**"
      ]
    },
    {
      "cell_type": "markdown",
      "metadata": {
        "id": "QbW6PhaXiKSc"
      },
      "source": [
        "### 1. Replace\n",
        "- **FOLDER_PATH** - path of folder you want to copy\n",
        "- **DESTINATION_PATH** - destination of the folder where you want to save the copy\n",
        "\n",
        "### 2. Run"
      ]
    },
    {
      "cell_type": "code",
      "metadata": {
        "id": "MGWDn6j3gc_o"
      },
      "source": [
        "!cp -av '/gdrive/My Drive/FOLDER_PATH' '/gdrive/My Drive/DESTINATION_PATH"
      ],
      "execution_count": null,
      "outputs": []
    },
    {
      "cell_type": "markdown",
      "metadata": {
        "id": "umRa9VGVuyLw"
      },
      "source": [
        "---\n",
        "---"
      ]
    },
    {
      "cell_type": "markdown",
      "metadata": {
        "id": "zBwf5A5Wftc8"
      },
      "source": [
        "# **`#2`** Make a copy of Folder within **Shared Drive**"
      ]
    },
    {
      "cell_type": "markdown",
      "metadata": {
        "id": "-QzSW_FTj1l1"
      },
      "source": [
        "### 1. Run the below code to get the list of Shared Drives"
      ]
    },
    {
      "cell_type": "code",
      "metadata": {
        "id": "PsBlht1ojz3J",
        "colab": {
          "base_uri": "https://localhost:8080/"
        },
        "outputId": "95b53352-c6c9-4643-dca7-aefd6803d9c5"
      },
      "source": [
        "!ls '/gdrive/Shared drives'"
      ],
      "execution_count": 4,
      "outputs": [
        {
          "output_type": "stream",
          "name": "stdout",
          "text": [
            "ls: cannot access '/gdrive/Shared drives': No such file or directory\n"
          ]
        }
      ]
    },
    {
      "cell_type": "markdown",
      "metadata": {
        "id": "7B3HfzF-kUkE"
      },
      "source": [
        "### 2. Replace \n",
        "\n",
        "*   TEAMDRIVE - your Shared Drive Name\n",
        "*   SOURCE_FOLDER - path of the Folder you want to copy\n",
        "*   DESTINATION_FOLDER - path of the Folder where you want to save the copy\n",
        "\n",
        "\n",
        "Example : \n",
        "\n",
        "```\n",
        "!cp -av '/gdrive/Shared drives/alex/testfolder' '/gdrive/Shared drives/alex/newfolder'\n",
        "```\n",
        "\n",
        "![alt text](https://i.imgur.com/DiHA39S.png)"
      ]
    },
    {
      "cell_type": "markdown",
      "metadata": {
        "id": "flvx0M6GvmLL"
      },
      "source": [
        "### 3. Run"
      ]
    },
    {
      "cell_type": "code",
      "metadata": {
        "id": "jc99JEuRkUkG",
        "colab": {
          "base_uri": "https://localhost:8080/"
        },
        "outputId": "69c32c6f-2854-4fe9-8f2d-6a1b319c63c2"
      },
      "source": [
        "!cp -av '/gdrive/Shared drives/TEAMDRIVE/SOURCE_FOLDER' '/gdrive/Shared drives/TEAMDRIVE/DESTINATION_FOLDER'"
      ],
      "execution_count": 5,
      "outputs": [
        {
          "output_type": "stream",
          "name": "stdout",
          "text": [
            "cp: cannot stat '/gdrive/Shared drives/TEAMDRIVE/SOURCE_FOLDER': No such file or directory\n"
          ]
        }
      ]
    },
    {
      "cell_type": "markdown",
      "metadata": {
        "id": "s-nWHHPYu3aE"
      },
      "source": [
        "---\n",
        "---"
      ]
    },
    {
      "cell_type": "markdown",
      "metadata": {
        "id": "kl-_gj6Oft5g"
      },
      "source": [
        "# **`#3`** Copy a Folder from **My Drive** to **Shared Drive**"
      ]
    },
    {
      "cell_type": "markdown",
      "metadata": {
        "id": "9qwzSm6wsjTG"
      },
      "source": [
        "### 1. Run the below code to get the list of ***Shared Drives***"
      ]
    },
    {
      "cell_type": "code",
      "metadata": {
        "id": "3GNRHJ_XsjTI"
      },
      "source": [
        "!ls '/gdrive/Shared drives'"
      ],
      "execution_count": null,
      "outputs": []
    },
    {
      "cell_type": "markdown",
      "metadata": {
        "id": "Uwf0yenUsqof"
      },
      "source": [
        "### 2. Replace"
      ]
    },
    {
      "cell_type": "markdown",
      "metadata": {
        "id": "O9BJopGMsqog"
      },
      "source": [
        "*   TEAMDRIVE - your Shared Drive Name\n",
        "*   FOLDER - path of the Folder you want to copy\n",
        "\n",
        "Example : \n",
        "\n",
        "```\n",
        "!cp -av '/gdrive/Shared drives/alex/testfolder' '/gdrive/My Drive/'\n",
        "```\n",
        "\n",
        "![alt text](https://i.imgur.com/DiHA39S.png)"
      ]
    },
    {
      "cell_type": "code",
      "metadata": {
        "id": "cSeiP4Lgsqoh"
      },
      "source": [
        "!cp -av '/gdrive/My Drive/FOLDER' '/gdrive/Shared drives/TEAMDRIVE/' "
      ],
      "execution_count": null,
      "outputs": []
    },
    {
      "cell_type": "markdown",
      "metadata": {
        "id": "edOfp9Ndu8fa"
      },
      "source": [
        "---\n",
        "---"
      ]
    },
    {
      "cell_type": "markdown",
      "metadata": {
        "id": "g8mEjIQc3j3K"
      },
      "source": [
        "# **`#4`** Copy a Folder from **Shared Drive** to **My Drive**"
      ]
    },
    {
      "cell_type": "markdown",
      "metadata": {
        "id": "u5chHrpJsIWo"
      },
      "source": [
        "### 1. Run the below code to get the list of ***Shared Drives***\n",
        "##### Hidden Shared Drives won't be listed\n",
        "##### (You need to check in the my Drive dashboard for any Hidden Shared Drives)"
      ]
    },
    {
      "cell_type": "code",
      "metadata": {
        "id": "zQs2Gq383sIU"
      },
      "source": [
        "!ls '/gdrive/Shared drives'"
      ],
      "execution_count": null,
      "outputs": []
    },
    {
      "cell_type": "markdown",
      "metadata": {
        "id": "6on7RCTp8x-q"
      },
      "source": [
        "### 2. Replace"
      ]
    },
    {
      "cell_type": "markdown",
      "metadata": {
        "id": "hRkajQfZsSzW"
      },
      "source": [
        "*   TEAMDRIVE with your Shared Drive Name\n",
        "*   FOLDER with the path of the Folder you want to copy\n",
        "\n",
        "Example : \n",
        "\n",
        "```\n",
        "!cp -av '/gdrive/Shared drives/alex/testfolder' '/gdrive/My Drive/'\n",
        "```\n",
        "\n",
        "![alt text](https://i.imgur.com/DiHA39S.png)"
      ]
    },
    {
      "cell_type": "code",
      "metadata": {
        "id": "7RC_U2uQ3sBT"
      },
      "source": [
        "!cp -av '/gdrive/Shared drives/TEAMDRIVE/FOLDER' '/gdrive/My Drive/'"
      ],
      "execution_count": null,
      "outputs": []
    },
    {
      "cell_type": "markdown",
      "metadata": {
        "id": "8hn-EXIW555r"
      },
      "source": [
        "# **`#5`** Copy a Folder from **Shared Drive#1** to **Shared Drive#2**"
      ]
    },
    {
      "cell_type": "markdown",
      "metadata": {
        "id": "HAGvwx7o6Lzt"
      },
      "source": [
        "1. Run the below code to get the list of Shared Drives\n",
        "*(Hidden Shared Drives won't be listed)*"
      ]
    },
    {
      "cell_type": "code",
      "metadata": {
        "id": "5mgayuLC5vsF"
      },
      "source": [
        "!ls '/gdrive/Shared drives'"
      ],
      "execution_count": null,
      "outputs": []
    },
    {
      "cell_type": "markdown",
      "metadata": {
        "id": "NR6TGSl16U7D"
      },
      "source": [
        "2. Replace\n",
        "- *`TEAMDRIVE_1`* with source Shared drive\n",
        "- *`TEAMDRIVE_2`* with destination Shared drive\n",
        "- *`FOLDER_1`* with source folder"
      ]
    },
    {
      "cell_type": "code",
      "metadata": {
        "id": "Tg6bcLrd8RJm"
      },
      "source": [
        "!cp -av '/gdrive/Shared drives/TEAMDRIVE_1/FOLDER_1' '/gdrive/Shared drives/TEAMDRIVE_2'"
      ],
      "execution_count": null,
      "outputs": []
    }
  ]
}