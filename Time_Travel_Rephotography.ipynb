{
  "cells": [
    {
      "cell_type": "markdown",
      "metadata": {
        "id": "view-in-github",
        "colab_type": "text"
      },
      "source": [
        "<a href=\"https://colab.research.google.com/github/XTRA26/MiXeM/blob/master/Time_Travel_Rephotography.ipynb\" target=\"_parent\"><img src=\"https://colab.research.google.com/assets/colab-badge.svg\" alt=\"Open In Colab\"/></a>"
      ]
    },
    {
      "cell_type": "markdown",
      "source": [
        "# [SIGGRAPH Asia 2021] Time-Travel Rephotography\n",
        "\n",
        "**Author**: [Xuan Luo](https://roxanneluo.github.io/)\n",
        "\n",
        "[[Project Page](https://time-travel-rephotography.github.io/)]\n",
        "[[Paper](https://arxiv.org/abs/2012.12261)]\n",
        "[[Video](https://youtu.be/ceIopN2UZ_s)]\n",
        "[[GitHub](https://github.com/Time-Travel-Rephotography/Time-Travel-Rephotography.github.io.git)]\n",
        "\n",
        "If you find this work useful, please consider citing:\n",
        "```bibtex\n",
        "@article{Luo-Rephotography-2021,\n",
        "  author    = {Luo, Xuan and Zhang, Xuaner and Yoo, Paul and Martin-Brualla, Ricardo and Lawrence, Jason and Seitz, Steven M.},\n",
        "  title     = {Time-Travel Rephotography},\n",
        "  journal = {ACM Transactions on Graphics (Proceedings of ACM SIGGRAPH Asia 2021)},\n",
        "  publisher = {ACM New York, NY, USA},\n",
        "  volume = {40},\n",
        "  number = {6},\n",
        "  articleno = {213},\n",
        "  doi = {https://doi.org/10.1145/3478513.3480485},\n",
        "  year = {2021},\n",
        "  month = {12}\n",
        "}\n",
        "\n",
        "```"
      ],
      "metadata": {
        "id": "WrsFo-ryivcl"
      }
    },
    {
      "cell_type": "markdown",
      "metadata": {
        "id": "I4lY7kJQNuXz"
      },
      "source": [
        "## Clone repository"
      ]
    },
    {
      "cell_type": "code",
      "execution_count": null,
      "metadata": {
        "colab": {
          "base_uri": "https://localhost:8080/"
        },
        "id": "33lkSUgGtH2t",
        "outputId": "31b2f435-e2ff-4d74-9e97-452fd3814aef"
      },
      "outputs": [
        {
          "output_type": "stream",
          "name": "stdout",
          "text": [
            "/content/Time-Travel-Rephotography\n"
          ]
        }
      ],
      "source": [
        "!!git clone  --depth 1 --recurse-submodules --shallow-submodules \\\n",
        "  https://github.com/Time-Travel-Rephotography/Time-Travel-Rephotography.github.io.git Time-Travel-Rephotography\n",
        "%cd Time-Travel-Rephotography"
      ]
    },
    {
      "cell_type": "markdown",
      "source": [
        "## Install dependencies"
      ],
      "metadata": {
        "id": "l8Cuch83ignd"
      }
    },
    {
      "cell_type": "code",
      "source": [
        "!pip3 install -r requirements.txt"
      ],
      "metadata": {
        "colab": {
          "base_uri": "https://localhost:8080/"
        },
        "id": "fyekuBL7i-Vf",
        "outputId": "25a126ba-6fd9-491f-a6f0-b9259c8ed1dd"
      },
      "execution_count": null,
      "outputs": [
        {
          "output_type": "stream",
          "name": "stdout",
          "text": [
            "Requirement already satisfied: Pillow in /usr/local/lib/python3.7/dist-packages (from -r requirements.txt (line 8)) (7.1.2)\n",
            "Requirement already satisfied: ninja in /usr/local/lib/python3.7/dist-packages (from -r requirements.txt (line 9)) (1.10.2.3)\n",
            "Requirement already satisfied: tqdm in /usr/local/lib/python3.7/dist-packages (from -r requirements.txt (line 10)) (4.62.3)\n",
            "Requirement already satisfied: opencv-python in /usr/local/lib/python3.7/dist-packages (from -r requirements.txt (line 11)) (4.1.2.30)\n",
            "Requirement already satisfied: scikit-image in /usr/local/lib/python3.7/dist-packages (from -r requirements.txt (line 12)) (0.18.3)\n",
            "Requirement already satisfied: numpy in /usr/local/lib/python3.7/dist-packages (from -r requirements.txt (line 13)) (1.19.5)\n",
            "Requirement already satisfied: tensorboard in /usr/local/lib/python3.7/dist-packages (from -r requirements.txt (line 15)) (2.7.0)\n",
            "Requirement already satisfied: tensorflow in /usr/local/lib/python3.7/dist-packages (from -r requirements.txt (line 18)) (2.7.0)\n",
            "Requirement already satisfied: dlib in /usr/local/lib/python3.7/dist-packages (from -r requirements.txt (line 21)) (19.18.0)\n",
            "Requirement already satisfied: scipy in /usr/local/lib/python3.7/dist-packages (from -r requirements.txt (line 22)) (1.4.1)\n",
            "Requirement already satisfied: matplotlib in /usr/local/lib/python3.7/dist-packages (from -r requirements.txt (line 24)) (3.2.2)\n",
            "Requirement already satisfied: pprintpp in /usr/local/lib/python3.7/dist-packages (from -r requirements.txt (line 25)) (0.4.0)\n",
            "Requirement already satisfied: networkx>=2.0 in /usr/local/lib/python3.7/dist-packages (from scikit-image->-r requirements.txt (line 12)) (2.6.3)\n",
            "Requirement already satisfied: PyWavelets>=1.1.1 in /usr/local/lib/python3.7/dist-packages (from scikit-image->-r requirements.txt (line 12)) (1.2.0)\n",
            "Requirement already satisfied: imageio>=2.3.0 in /usr/local/lib/python3.7/dist-packages (from scikit-image->-r requirements.txt (line 12)) (2.4.1)\n",
            "Requirement already satisfied: tifffile>=2019.7.26 in /usr/local/lib/python3.7/dist-packages (from scikit-image->-r requirements.txt (line 12)) (2021.11.2)\n",
            "Requirement already satisfied: pyparsing!=2.0.4,!=2.1.2,!=2.1.6,>=2.0.1 in /usr/local/lib/python3.7/dist-packages (from matplotlib->-r requirements.txt (line 24)) (3.0.6)\n",
            "Requirement already satisfied: kiwisolver>=1.0.1 in /usr/local/lib/python3.7/dist-packages (from matplotlib->-r requirements.txt (line 24)) (1.3.2)\n",
            "Requirement already satisfied: python-dateutil>=2.1 in /usr/local/lib/python3.7/dist-packages (from matplotlib->-r requirements.txt (line 24)) (2.8.2)\n",
            "Requirement already satisfied: cycler>=0.10 in /usr/local/lib/python3.7/dist-packages (from matplotlib->-r requirements.txt (line 24)) (0.11.0)\n",
            "Requirement already satisfied: six>=1.5 in /usr/local/lib/python3.7/dist-packages (from python-dateutil>=2.1->matplotlib->-r requirements.txt (line 24)) (1.15.0)\n",
            "Requirement already satisfied: absl-py>=0.4 in /usr/local/lib/python3.7/dist-packages (from tensorboard->-r requirements.txt (line 15)) (0.12.0)\n",
            "Requirement already satisfied: google-auth-oauthlib<0.5,>=0.4.1 in /usr/local/lib/python3.7/dist-packages (from tensorboard->-r requirements.txt (line 15)) (0.4.6)\n",
            "Requirement already satisfied: setuptools>=41.0.0 in /usr/local/lib/python3.7/dist-packages (from tensorboard->-r requirements.txt (line 15)) (57.4.0)\n",
            "Requirement already satisfied: wheel>=0.26 in /usr/local/lib/python3.7/dist-packages (from tensorboard->-r requirements.txt (line 15)) (0.37.0)\n",
            "Requirement already satisfied: requests<3,>=2.21.0 in /usr/local/lib/python3.7/dist-packages (from tensorboard->-r requirements.txt (line 15)) (2.23.0)\n",
            "Requirement already satisfied: tensorboard-data-server<0.7.0,>=0.6.0 in /usr/local/lib/python3.7/dist-packages (from tensorboard->-r requirements.txt (line 15)) (0.6.1)\n",
            "Requirement already satisfied: werkzeug>=0.11.15 in /usr/local/lib/python3.7/dist-packages (from tensorboard->-r requirements.txt (line 15)) (1.0.1)\n",
            "Requirement already satisfied: grpcio>=1.24.3 in /usr/local/lib/python3.7/dist-packages (from tensorboard->-r requirements.txt (line 15)) (1.42.0)\n",
            "Requirement already satisfied: google-auth<3,>=1.6.3 in /usr/local/lib/python3.7/dist-packages (from tensorboard->-r requirements.txt (line 15)) (1.35.0)\n",
            "Requirement already satisfied: markdown>=2.6.8 in /usr/local/lib/python3.7/dist-packages (from tensorboard->-r requirements.txt (line 15)) (3.3.6)\n",
            "Requirement already satisfied: tensorboard-plugin-wit>=1.6.0 in /usr/local/lib/python3.7/dist-packages (from tensorboard->-r requirements.txt (line 15)) (1.8.0)\n",
            "Requirement already satisfied: protobuf>=3.6.0 in /usr/local/lib/python3.7/dist-packages (from tensorboard->-r requirements.txt (line 15)) (3.17.3)\n",
            "Requirement already satisfied: cachetools<5.0,>=2.0.0 in /usr/local/lib/python3.7/dist-packages (from google-auth<3,>=1.6.3->tensorboard->-r requirements.txt (line 15)) (4.2.4)\n",
            "Requirement already satisfied: pyasn1-modules>=0.2.1 in /usr/local/lib/python3.7/dist-packages (from google-auth<3,>=1.6.3->tensorboard->-r requirements.txt (line 15)) (0.2.8)\n",
            "Requirement already satisfied: rsa<5,>=3.1.4 in /usr/local/lib/python3.7/dist-packages (from google-auth<3,>=1.6.3->tensorboard->-r requirements.txt (line 15)) (4.8)\n",
            "Requirement already satisfied: requests-oauthlib>=0.7.0 in /usr/local/lib/python3.7/dist-packages (from google-auth-oauthlib<0.5,>=0.4.1->tensorboard->-r requirements.txt (line 15)) (1.3.0)\n",
            "Requirement already satisfied: importlib-metadata>=4.4 in /usr/local/lib/python3.7/dist-packages (from markdown>=2.6.8->tensorboard->-r requirements.txt (line 15)) (4.8.2)\n",
            "Requirement already satisfied: zipp>=0.5 in /usr/local/lib/python3.7/dist-packages (from importlib-metadata>=4.4->markdown>=2.6.8->tensorboard->-r requirements.txt (line 15)) (3.6.0)\n",
            "Requirement already satisfied: typing-extensions>=3.6.4 in /usr/local/lib/python3.7/dist-packages (from importlib-metadata>=4.4->markdown>=2.6.8->tensorboard->-r requirements.txt (line 15)) (3.10.0.2)\n",
            "Requirement already satisfied: pyasn1<0.5.0,>=0.4.6 in /usr/local/lib/python3.7/dist-packages (from pyasn1-modules>=0.2.1->google-auth<3,>=1.6.3->tensorboard->-r requirements.txt (line 15)) (0.4.8)\n",
            "Requirement already satisfied: idna<3,>=2.5 in /usr/local/lib/python3.7/dist-packages (from requests<3,>=2.21.0->tensorboard->-r requirements.txt (line 15)) (2.10)\n",
            "Requirement already satisfied: certifi>=2017.4.17 in /usr/local/lib/python3.7/dist-packages (from requests<3,>=2.21.0->tensorboard->-r requirements.txt (line 15)) (2021.10.8)\n",
            "Requirement already satisfied: chardet<4,>=3.0.2 in /usr/local/lib/python3.7/dist-packages (from requests<3,>=2.21.0->tensorboard->-r requirements.txt (line 15)) (3.0.4)\n",
            "Requirement already satisfied: urllib3!=1.25.0,!=1.25.1,<1.26,>=1.21.1 in /usr/local/lib/python3.7/dist-packages (from requests<3,>=2.21.0->tensorboard->-r requirements.txt (line 15)) (1.24.3)\n",
            "Requirement already satisfied: oauthlib>=3.0.0 in /usr/local/lib/python3.7/dist-packages (from requests-oauthlib>=0.7.0->google-auth-oauthlib<0.5,>=0.4.1->tensorboard->-r requirements.txt (line 15)) (3.1.1)\n",
            "Requirement already satisfied: libclang>=9.0.1 in /usr/local/lib/python3.7/dist-packages (from tensorflow->-r requirements.txt (line 18)) (12.0.0)\n",
            "Requirement already satisfied: keras-preprocessing>=1.1.1 in /usr/local/lib/python3.7/dist-packages (from tensorflow->-r requirements.txt (line 18)) (1.1.2)\n",
            "Requirement already satisfied: keras<2.8,>=2.7.0rc0 in /usr/local/lib/python3.7/dist-packages (from tensorflow->-r requirements.txt (line 18)) (2.7.0)\n",
            "Requirement already satisfied: flatbuffers<3.0,>=1.12 in /usr/local/lib/python3.7/dist-packages (from tensorflow->-r requirements.txt (line 18)) (2.0)\n",
            "Requirement already satisfied: termcolor>=1.1.0 in /usr/local/lib/python3.7/dist-packages (from tensorflow->-r requirements.txt (line 18)) (1.1.0)\n",
            "Requirement already satisfied: wrapt>=1.11.0 in /usr/local/lib/python3.7/dist-packages (from tensorflow->-r requirements.txt (line 18)) (1.13.3)\n",
            "Requirement already satisfied: astunparse>=1.6.0 in /usr/local/lib/python3.7/dist-packages (from tensorflow->-r requirements.txt (line 18)) (1.6.3)\n",
            "Requirement already satisfied: gast<0.5.0,>=0.2.1 in /usr/local/lib/python3.7/dist-packages (from tensorflow->-r requirements.txt (line 18)) (0.4.0)\n",
            "Requirement already satisfied: tensorflow-estimator<2.8,~=2.7.0rc0 in /usr/local/lib/python3.7/dist-packages (from tensorflow->-r requirements.txt (line 18)) (2.7.0)\n",
            "Requirement already satisfied: tensorflow-io-gcs-filesystem>=0.21.0 in /usr/local/lib/python3.7/dist-packages (from tensorflow->-r requirements.txt (line 18)) (0.22.0)\n",
            "Requirement already satisfied: h5py>=2.9.0 in /usr/local/lib/python3.7/dist-packages (from tensorflow->-r requirements.txt (line 18)) (3.1.0)\n",
            "Requirement already satisfied: opt-einsum>=2.3.2 in /usr/local/lib/python3.7/dist-packages (from tensorflow->-r requirements.txt (line 18)) (3.3.0)\n",
            "Requirement already satisfied: google-pasta>=0.1.1 in /usr/local/lib/python3.7/dist-packages (from tensorflow->-r requirements.txt (line 18)) (0.2.0)\n",
            "Requirement already satisfied: cached-property in /usr/local/lib/python3.7/dist-packages (from h5py>=2.9.0->tensorflow->-r requirements.txt (line 18)) (1.5.2)\n"
          ]
        }
      ]
    },
    {
      "cell_type": "markdown",
      "source": [
        "## Download models"
      ],
      "metadata": {
        "id": "IZ1fl5qIjE4z"
      }
    },
    {
      "cell_type": "code",
      "execution_count": null,
      "metadata": {
        "colab": {
          "base_uri": "https://localhost:8080/"
        },
        "id": "CIDDOutMM6kz",
        "outputId": "85b36291-6e31-4cc4-9769-c2692ceafc37"
      },
      "outputs": [
        {
          "output_type": "stream",
          "name": "stdout",
          "text": [
            "allexport      \toff\n",
            "braceexpand    \ton\n",
            "emacs          \toff\n",
            "errexit        \ton\n",
            "errtrace       \toff\n",
            "functrace      \toff\n",
            "hashall        \ton\n",
            "histexpand     \toff\n",
            "history        \toff\n",
            "ignoreeof      \toff\n",
            "interactive-comments\ton\n",
            "keyword        \toff\n",
            "monitor        \toff\n",
            "noclobber      \toff\n",
            "noexec         \toff\n",
            "noglob         \toff\n",
            "nolog          \toff\n",
            "notify         \toff\n",
            "nounset        \toff\n",
            "onecmd         \toff\n",
            "physical       \toff\n",
            "pipefail       \toff\n",
            "posix          \toff\n",
            "privileged     \toff\n",
            "verbose        \toff\n",
            "vi             \toff\n",
            "xtrace         \ton\n",
            "++ mkdir -p checkpoint\n",
            "++ gdown 'https://drive.google.com/uc?id=1hWc2JLM58_PkwfLG23Q5IH3Ysj2Mo1nr' -O checkpoint/e4e_ffhq_encode.pt\n",
            "Downloading...\n",
            "From: https://drive.google.com/uc?id=1hWc2JLM58_PkwfLG23Q5IH3Ysj2Mo1nr\n",
            "To: /content/Time-Travel-Rephotography/checkpoint/e4e_ffhq_encode.pt\n",
            "100% 1.20G/1.20G [00:05<00:00, 203MB/s]\n",
            "++ gdown 'https://drive.google.com/uc?id=1hvAAql9Jo0wlmLBSHRIGrtXHcKQE-Whn' -O checkpoint/stylegan2-ffhq-config-f.pt\n",
            "Downloading...\n",
            "From: https://drive.google.com/uc?id=1hvAAql9Jo0wlmLBSHRIGrtXHcKQE-Whn\n",
            "To: /content/Time-Travel-Rephotography/checkpoint/stylegan2-ffhq-config-f.pt\n",
            "100% 133M/133M [00:01<00:00, 87.1MB/s]\n",
            "++ gdown 'https://drive.google.com/uc?id=1mbGWbjivZxMGxZqyyOHbE310aOkYe2BR' -O checkpoint/vgg_face_dag.pt\n",
            "Downloading...\n",
            "From: https://drive.google.com/uc?id=1mbGWbjivZxMGxZqyyOHbE310aOkYe2BR\n",
            "To: /content/Time-Travel-Rephotography/checkpoint/vgg_face_dag.pt\n",
            "100% 580M/580M [00:07<00:00, 76.7MB/s]\n",
            "++ mkdir -p checkpoint/encoder\n",
            "++ gdown 'https://drive.google.com/uc?id=1ha4WXsaIpZfMHsqNLvqOPlUXsgh9VawU' -O checkpoint/encoder/checkpoint_b.pt\n",
            "Downloading...\n",
            "From: https://drive.google.com/uc?id=1ha4WXsaIpZfMHsqNLvqOPlUXsgh9VawU\n",
            "To: /content/Time-Travel-Rephotography/checkpoint/encoder/checkpoint_b.pt\n",
            "100% 174M/174M [00:03<00:00, 56.7MB/s]\n",
            "++ gdown 'https://drive.google.com/uc?id=1hfxDLujRIGU0G7pOdW9MMSBRzxZBmSKJ' -O checkpoint/encoder/checkpoint_g.pt\n",
            "Downloading...\n",
            "From: https://drive.google.com/uc?id=1hfxDLujRIGU0G7pOdW9MMSBRzxZBmSKJ\n",
            "To: /content/Time-Travel-Rephotography/checkpoint/encoder/checkpoint_g.pt\n",
            "100% 174M/174M [00:02<00:00, 64.8MB/s]\n",
            "++ gdown 'https://drive.google.com/uc?id=1htekHopgxaW-MIjs6pYy7pyIK0v7Q0iS' -O checkpoint/encoder/checkpoint_gb.pt\n",
            "Downloading...\n",
            "From: https://drive.google.com/uc?id=1htekHopgxaW-MIjs6pYy7pyIK0v7Q0iS\n",
            "To: /content/Time-Travel-Rephotography/checkpoint/encoder/checkpoint_gb.pt\n",
            "100% 174M/174M [00:03<00:00, 47.5MB/s]\n",
            "++ pushd third_party/face_parsing\n",
            "/content/Time-Travel-Rephotography/third_party/face_parsing /content/Time-Travel-Rephotography\n",
            "++ ./scripts/download_checkpoints.sh\n",
            "allexport      \toff\n",
            "braceexpand    \ton\n",
            "emacs          \toff\n",
            "errexit        \ton\n",
            "errtrace       \toff\n",
            "functrace      \toff\n",
            "hashall        \ton\n",
            "histexpand     \toff\n",
            "history        \toff\n",
            "ignoreeof      \toff\n",
            "interactive-comments\ton\n",
            "keyword        \toff\n",
            "monitor        \toff\n",
            "noclobber      \toff\n",
            "noexec         \toff\n",
            "noglob         \toff\n",
            "nolog          \toff\n",
            "notify         \toff\n",
            "nounset        \toff\n",
            "onecmd         \toff\n",
            "physical       \toff\n",
            "pipefail       \toff\n",
            "posix          \toff\n",
            "privileged     \toff\n",
            "verbose        \toff\n",
            "vi             \toff\n",
            "xtrace         \ton\n",
            "+++ mkdir -p res/cp\n",
            "+++ gdown 'https://drive.google.com/uc?id=1m_bNvDmE56YyYgq9s9w-RHLCD1PTQfR5' -O res/cp/79999_iter.pth\n",
            "Downloading...\n",
            "From: https://drive.google.com/uc?id=1m_bNvDmE56YyYgq9s9w-RHLCD1PTQfR5\n",
            "To: /content/Time-Travel-Rephotography/third_party/face_parsing/res/cp/79999_iter.pth\n",
            "100% 53.3M/53.3M [00:00<00:00, 202MB/s]\n",
            "++ popd\n",
            "/content/Time-Travel-Rephotography\n"
          ]
        }
      ],
      "source": [
        "%%bash\n",
        "\n",
        "set -exo\n",
        "\n",
        "mkdir -p checkpoint\n",
        "gdown https://drive.google.com/uc?id=1YLB-3ZCv6FRAWwCHkTvUou_CAvDcb5Pr -O checkpoint/e4e_ffhq_encode.pt\n",
        "gdown https://drive.google.com/uc?id=1aSnTVHGNzQ-Eh5rNDOrOc_4SjQbNMq3B -O checkpoint/stylegan2-ffhq-config-f.pt\n",
        "gdown https://drive.google.com/uc?id=12BHlsSQM0D8KyXprIc7WmJRLWBWdtF56 -O checkpoint/vgg_face_dag.pt\n",
        "mkdir -p checkpoint/encoder\n",
        "gdown https://drive.google.com/uc?id=1fXBCyBKNEZfeiI6LEHTEnUg_DjWHJy5r -O checkpoint/encoder/checkpoint_b.pt\n",
        "gdown https://drive.google.com/uc?id=1YnQEPf7FyfZxAVQg-CpbvdF4otZeTOZh -O checkpoint/encoder/checkpoint_g.pt\n",
        "gdown https://drive.google.com/uc?id=1kelQK3pUdeHwu8uVE7A4WZH_EjHxGE6v -O checkpoint/encoder/checkpoint_gb.pt\n",
        "\n",
        "pushd third_party/face_parsing\n",
        "  mkdir -p res/cp\n",
        "  gdown https://drive.google.com/uc?id=1vwm4BcAKISQgcJLvTUcvesk73UIYdDMF -O res/cp/79999_iter.pth\n",
        "popd\n"
      ]
    },
    {
      "cell_type": "markdown",
      "source": [
        "If the script above fails, which is largely due to exceeding download quota, try run the script below.\n",
        "\n",
        "```\n",
        "!./scripts/download_checkpoints.sh\n",
        "```"
      ],
      "metadata": {
        "id": "XAqQCGAGpN6-"
      }
    },
    {
      "cell_type": "markdown",
      "source": [
        "## Configure Input"
      ],
      "metadata": {
        "id": "vYo5FzLnnG1v"
      }
    },
    {
      "cell_type": "code",
      "source": [
        "from pathlib import Path\n",
        "import os\n",
        "\n",
        "\n",
        "def upload_files(input_dir=Path()):\n",
        "  from google.colab import files\n",
        "  input_dir.mkdir(parents=True, exist_ok=True)\n",
        "  prev_dir = os.getcwd()\n",
        "  os.chdir(input_dir)\n",
        "  uploaded = files.upload()\n",
        "  os.chdir(prev_dir)\n",
        "  return [input_dir / k for k in uploaded.keys()]\n",
        "\n",
        "\n",
        "# @title Path to the input image\n",
        "input_path = \"dataset/Abraham Lincoln_01.png\"  # @param {type: 'string'}\n",
        "\n",
        "# @markdown Do you want to upload and process your own image instead?\n",
        "upload = False #@param {type:\"boolean\"}\n",
        "\n",
        "if upload:\n",
        "  from tools.data import align_images as align\n",
        "  # upload image\n",
        "  upload_dir = Path(\"dataset/unaligned\")\n",
        "  paths = upload_files(upload_dir)\n",
        "  # align image\n",
        "  aligned_dir = Path(\"dataset/\")\n",
        "  args = align.parse_args([\n",
        "    str(upload_dir),\n",
        "    str(aligned_dir),\n",
        "  ])\n",
        "  align.main(args)\n",
        "  input_path = aligned_dir / f\"{paths[0].stem}_01.png\"\n",
        "\n",
        "print(f\"input_path = '{input_path}'.\")\n"
      ],
      "metadata": {
        "colab": {
          "base_uri": "https://localhost:8080/"
        },
        "id": "LCruJr3Oac2Y",
        "outputId": "72461509-b5bc-4770-bd80-1e032090249b",
        "cellView": "form"
      },
      "execution_count": null,
      "outputs": [
        {
          "output_type": "stream",
          "name": "stdout",
          "text": [
            "input_path = 'dataset/Abraham Lincoln_01.png'.\n"
          ]
        }
      ]
    },
    {
      "cell_type": "code",
      "source": [
        "# @title Spectral sensitivity of the negative\n",
        "# @markdown The `spectral_sensitivity` can be `'b'` (blue-sensitive), `'gb'` (orthochromatic), or `'g'` (panchromatic). \n",
        "# @markdown You can roughly estimate the spectral_sensitivity of your photo as follows. Use the blue-sensitive model for photos before 1873, manually select between blue-sensitive and orthochromatic for images from 1873 to 1906 and among all models for photos taken afterwards.\n",
        "spectral_sensitivity = \"b\"  # @param [\"b\", \"gb\", \"g\"]\n"
      ],
      "metadata": {
        "id": "hlfY7kuyqYgC",
        "cellView": "form"
      },
      "execution_count": null,
      "outputs": []
    },
    {
      "cell_type": "code",
      "source": [
        "# @title Estimated blur radius of the input photo\n",
        "gaussian_radius = 0.75  # @param {type:\"number\"}"
      ],
      "metadata": {
        "cellView": "form",
        "id": "RpMMTmHvqtEQ"
      },
      "execution_count": null,
      "outputs": []
    },
    {
      "cell_type": "markdown",
      "source": [
        "## Run"
      ],
      "metadata": {
        "id": "3weHAclSgSTB"
      }
    },
    {
      "cell_type": "code",
      "source": [
        "%load_ext autoreload\n",
        "%autoreload\n",
        "\n",
        "from argparse import Namespace\n",
        "from projector import (\n",
        "    ProjectorArguments,\n",
        "    main,\n",
        ")\n",
        "\n",
        "args = ProjectorArguments().parse(\n",
        "    args=[str(input_path)], \n",
        "    namespace=Namespace(\n",
        "        spectral_sensitivity=spectral_sensitivity,\n",
        "        encoder_ckpt=f\"checkpoint/encoder/checkpoint_{spectral_sensitivity}.pt\",\n",
        "        encoder_name=spectral_sensitivity,\n",
        "        gaussian=gaussian_radius,\n",
        "        log_visual_freq=1000,\n",
        "        log_dir=\"log/\",\n",
        "        results_dir=\"results/\"\n",
        "))\n",
        "main(args)"
      ],
      "metadata": {
        "id": "UHkm-TWYoTPs",
        "colab": {
          "base_uri": "https://localhost:8080/"
        },
        "outputId": "bad6b438-bda8-4793-d03a-dedf1f1f44fa"
      },
      "execution_count": null,
      "outputs": [
        {
          "output_type": "stream",
          "name": "stdout",
          "text": [
            "The autoreload extension is already loaded. To reload it, use:\n",
            "  %reload_ext autoreload\n",
            "------------ Parameters -------------\n",
            "camera_lr: 0.01\n",
            "ckpt: checkpoint/stylegan2-ffhq-config-f.pt\n",
            "coarse_min: 32\n",
            "color_transfer: 10000000000.0\n",
            "contextual: 0.1\n",
            "cx_layers: ['relu3_4', 'relu2_2', 'relu1_2']\n",
            "e4e_ckpt: checkpoint/e4e_ffhq_encode.pt\n",
            "e4e_size: 256\n",
            "encoder_ckpt: checkpoint/encoder/checkpoint_b.pt\n",
            "encoder_name: b\n",
            "encoder_size: 256\n",
            "eye: 0.1\n",
            "gaussian: 0.75\n",
            "generator_size: 1024\n",
            "init_latent: None\n",
            "input: dataset/Abraham Lincoln_01.png\n",
            "log_dir: log/\n",
            "log_freq: 10\n",
            "log_visual_freq: 1000\n",
            "lr: 0.1\n",
            "mix_layer_range: [10, 18]\n",
            "noise_ramp: 0.75\n",
            "noise_regularize: 50000.0\n",
            "noise_strength: 0.0\n",
            "rand_seed: None\n",
            "recon_size: 256\n",
            "results_dir: results/\n",
            "spectral_sensitivity: b\n",
            "vgg: 1\n",
            "vggface: 0.3\n",
            "wplus_step: [250, 750]\n",
            "-------------------------------------\n",
            "b-G0.75-init(10,18)-s256-vgg1-vggface0.3-eye0.1-color1.0e+10-cx0.1(relu3_4,relu2_2,relu1_2)-NR5.0e+04-lr0.1_0.01-c32-wp(250,750)\n",
            "Loading e4e over the pSp framework from checkpoint: checkpoint/e4e_ffhq_encode.pt\n"
          ]
        },
        {
          "output_type": "stream",
          "name": "stderr",
          "text": [
            "/usr/local/lib/python3.7/dist-packages/torch/nn/functional.py:3635: UserWarning: Default upsampling behavior when mode=bilinear is changed to align_corners=False since 0.4.0. Please specify align_corners=True if the old behavior is desired. See the documentation of nn.Upsample for details.\n",
            "  \"See the documentation of nn.Upsample for details.\".format(mode)\n"
          ]
        },
        {
          "output_type": "stream",
          "name": "stdout",
          "text": [
            "python test.py /content/Time-Travel-Rephotography/results/Abraham Lincoln_01/input_sibling /content/Time-Travel-Rephotography/results/Abraham Lincoln_01/skin_mask/face_parsing\n"
          ]
        },
        {
          "output_type": "stream",
          "name": "stderr",
          "text": [
            "100%|██████████| 2/2 [00:00<00:00, 164.88it/s]\n"
          ]
        },
        {
          "output_type": "stream",
          "name": "stdout",
          "text": [
            "Optimizing 32x32\n"
          ]
        },
        {
          "output_type": "stream",
          "name": "stderr",
          "text": [
            "face:  3.573e+00; eye:  4.444e+00; contextual:  8.362e+00; color_transfer:  1.014e-23; noise:  3.251e-01:   0%|          | 0/250 [00:01<?, ?it/s]/usr/local/lib/python3.7/dist-packages/torchvision/utils.py:50: UserWarning: range will be deprecated, please use value_range instead.\n",
            "  warnings.warn(warning)\n",
            "face:  2.333e+00; eye:  3.871e+00; contextual:  9.569e+00; color_transfer:  6.883e-13; noise:  1.350e-03: 100%|██████████| 250/250 [05:15<00:00,  1.26s/it]\n"
          ]
        },
        {
          "output_type": "stream",
          "name": "stdout",
          "text": [
            "Optimizing 64x64\n"
          ]
        },
        {
          "output_type": "stream",
          "name": "stderr",
          "text": [
            "face:  1.748e+00; eye:  3.529e+00; contextual:  7.939e+00; color_transfer:  2.042e-12; noise:  3.290e-05: 100%|██████████| 750/750 [15:43<00:00,  1.26s/it]\n"
          ]
        }
      ]
    },
    {
      "cell_type": "code",
      "source": [
        ""
      ],
      "metadata": {
        "id": "IYwRFh4nIc8e"
      },
      "execution_count": null,
      "outputs": []
    }
  ],
  "metadata": {
    "accelerator": "GPU",
    "colab": {
      "collapsed_sections": [
        "I4lY7kJQNuXz",
        "l8Cuch83ignd",
        "IZ1fl5qIjE4z"
      ],
      "name": "Time-Travel Rephotography.ipynb",
      "provenance": [],
      "machine_shape": "hm",
      "include_colab_link": true
    },
    "kernelspec": {
      "display_name": "Python 3",
      "name": "python3"
    },
    "language_info": {
      "name": "python"
    }
  },
  "nbformat": 4,
  "nbformat_minor": 0
}